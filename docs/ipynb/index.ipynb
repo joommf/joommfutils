{
 "cells": [
  {
   "cell_type": "markdown",
   "metadata": {},
   "source": [
    "# Tutorials\n",
    "\n",
    "The following tutorials are available:\n",
    "\n",
    "- [Tutorial 00: Installation, testing, and upgrade](00-tutorial-installation-testing-upgrade.ipynb)\n",
    "- [Tutorial 01: Defining a mesh](01-tutorial-defining-mesh.ipynb)\n",
    "- [Tutorial 02: Mesh properties, methods, and generators](02-tutorial-mesh-properties.ipynb)\n",
    "- [Tutorial 03: Defining regions in a mesh](03-tutorial-defining-regions.ipynb)\n",
    "- [Tutorial 04: Mesh plotting](04-tutorial-mesh-plotting.ipynb)\n",
    "- [Tutorial 05: Defining a uniform field](05-tutorial-defining-field.ipynb)\n",
    "- [Tutorial 06: Setting spatially varying fields](06-tutorial-spatially-varying-field.ipynb)\n",
    "- [Tutorial 07: Normalising the field](07-tutorial-normalising-field.ipynb)\n",
    "- [Tutorial 08: Field operations](08-tutorial-field-operations.ipynb)\n",
    "- [Tutorial 09: Visualising the field using `matplotlib`](09-tutorial-matplotlib-visualisation.ipynb)\n",
    "- [Tutorial 10: Visualising the field using `k3d`](10-tutorial-k3d-visualisation.ipynb)\n",
    "- [Tutorial 11: Reading and writing fields](11-tutorial-read-write.ipynb)\n",
    "- [Tutorial 12: `ovf2vtk` tool](12-tutorial-ovf2vtk.ipynb)\n",
    "- [Tutorial 13: Support, License, How to cite, and Acknowledgements](13-tutorial-other.ipynb)\n",
    "\n",
    "All available Jupyter notebooks can be found [here](./)."
   ]
  }
 ],
 "metadata": {
  "kernelspec": {
   "display_name": "Python 3",
   "language": "python",
   "name": "python3"
  },
  "language_info": {
   "codemirror_mode": {
    "name": "ipython",
    "version": 3
   },
   "file_extension": ".py",
   "mimetype": "text/x-python",
   "name": "python",
   "nbconvert_exporter": "python",
   "pygments_lexer": "ipython3",
   "version": "3.7.4"
  }
 },
 "nbformat": 4,
 "nbformat_minor": 2
}
