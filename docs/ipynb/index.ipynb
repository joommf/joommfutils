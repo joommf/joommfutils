{
 "cells": [
  {
   "cell_type": "markdown",
   "metadata": {},
   "source": [
    "# Tutorials\n",
    "\n",
    "The following tutorials are available:\n",
    "\n",
    "- [Tutorial 00: Installation, testing, and upgrade](00-tutorial-installation-testing-upgrade.ipynb)\n",
    "- [Tutorial 01: Imposing `typesystem` on a class](01-tutorial-imposing-typesystem.ipynb)\n",
    "- [Tutorial 02: Constant attributes](02-tutorial-constant-attributes.ipynb)\n",
    "- [Tutorial 03: `Parameter` descriptor](03-tutorial-parameter-descriptor.ipynb)\n",
    "- [Tutorial 04: Defining `otherwise` type](04-tutorial-otherwise-type.ipynb)\n",
    "- [Tutorial 05: Support, License, How to cite, and Acknowledgements](05-tutorial-other.ipynb)\n",
    "\n",
    "All available Jupyter notebooks can be found [here](./)."
   ]
  }
 ],
 "metadata": {
  "kernelspec": {
   "display_name": "Python 3",
   "language": "python",
   "name": "python3"
  },
  "language_info": {
   "codemirror_mode": {
    "name": "ipython",
    "version": 3
   },
   "file_extension": ".py",
   "mimetype": "text/x-python",
   "name": "python",
   "nbconvert_exporter": "python",
   "pygments_lexer": "ipython3",
   "version": "3.7.4"
  }
 },
 "nbformat": 4,
 "nbformat_minor": 2
}
