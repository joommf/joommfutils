{
 "cells": [
  {
   "cell_type": "markdown",
   "metadata": {},
   "source": [
    "# Installation\n",
    "\n",
    "We recommend installing `joommfutil` using `conda` package manager. Alternatively, it can be installed using `pip`.\n",
    "\n",
    "#### `conda`\n",
    "\n",
    "If you do not already have it, [Download Anaconda](https://www.anaconda.com/download) for your operating system and follow instructions to install it. For further information on the `conda` package, dependency, and environment management, please have a look at its [documentation](https://conda.io/docs/).\n",
    "\n",
    "`joommfutil` is installed using `conda` by running\n",
    "\n",
    "    $ conda install --channel conda-forge joommfutil\n",
    "\n",
    "#### `pip`\n",
    "\n",
    "After installing [Anaconda](https://www.anaconda.com/) on MacOS or Windows, `pip` will also be installed. However, on Linux, if you do not already have it, you can install it with\n",
    "\n",
    "    $ sudo apt-get install python3-pip\n",
    "\n",
    "`joommfutil` is then installed by running\n",
    "\n",
    "    $ python3 -m pip install joommfutil\n",
    "    \n",
    "# Testing\n",
    "\n",
    "After the installation, you can test the `joommfutil` package with\n",
    "\n",
    "    $ python3 -c \"import joommfutil; joommfutil.test()\"\n",
    "    \n",
    "# Upgrade\n",
    "\n",
    "If you used `conda` for the installation, upgrade `joommfutil` by running:\n",
    "\n",
    "    $ conda upgrade joommfutil\n",
    "    \n",
    "Alternatively, if `pip` was used, the upgrade command is\n",
    "\n",
    "    $ python3 -m pip install --upgrade joommfutil"
   ]
  }
 ],
 "metadata": {
  "kernelspec": {
   "display_name": "Python 3",
   "language": "python",
   "name": "python3"
  },
  "language_info": {
   "codemirror_mode": {
    "name": "ipython",
    "version": 3
   },
   "file_extension": ".py",
   "mimetype": "text/x-python",
   "name": "python",
   "nbconvert_exporter": "python",
   "pygments_lexer": "ipython3",
   "version": "3.6.7"
  }
 },
 "nbformat": 4,
 "nbformat_minor": 2
}
